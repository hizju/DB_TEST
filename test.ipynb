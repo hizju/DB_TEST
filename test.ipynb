{
 "cells": [
  {
   "cell_type": "markdown",
   "metadata": {},
   "source": []
  },
  {
   "cell_type": "code",
   "execution_count": 1,
   "metadata": {},
   "outputs": [],
   "source": [
    "import requests\n",
    "from bs4 import BeautifulSoup\n",
    "res = requests.get('https://search.kyobobook.co.kr/search?keyword=python&gbCode=TOT&target=total')\n",
    "soup = BeautifulSoup(res.content,'html.parser')"
   ]
  },
  {
   "cell_type": "code",
   "execution_count": 2,
   "metadata": {},
   "outputs": [],
   "source": [
    "items = soup.select('div.auto_overflow_inner a.prod_info')\n",
    "# items"
   ]
  },
  {
   "cell_type": "code",
   "execution_count": 3,
   "metadata": {},
   "outputs": [
    {
     "name": "stdout",
     "output_type": "stream",
     "text": [
      "Excel, Python, R 활용비즈니스데이터분석\n",
      "이지파이썬 2\n",
      "이지파이썬 1\n",
      "파이썬 아키텍처 패턴\n",
      "파이썬과 코랩기반의 OpenCV로 배우는 영상처리\n",
      "[무료특별판] 미국 주식으로 시작하는 슬기로운 퀀트투자\n",
      "초보자를 위한 파이썬(Python) 200제\n",
      "[epub3.0] (Better Python Code)파이썬 코딩의 기술 51\n",
      "파이썬으로 시작하는 데이터 분석\n",
      "생활코딩! 파이썬\n",
      "2024 빅데이터분석기사 실기 한권완성: 파이썬(Python)\n",
      "누구나 할 수 있다 파이썬 Python 기초\n",
      "초보자를 위한 파이썬(Python) 200제\n",
      "마야 파이썬 2024\n",
      "파이썬(Python) 3학년 머신러닝의 구조\n",
      "작심 3일 파이썬 Python\n",
      "마야 파이썬 2024\n",
      "파이썬(Python)\n",
      "Python(파이썬)과 Matplotlib, NumPy, Pandas\n",
      "파이썬(Python) 3학년 머신러닝의 구조\n"
     ]
    }
   ],
   "source": [
    "\n",
    "for item in items:\n",
    "    #print(item.select('span')[2])\n",
    "    # if len(item.select('span')) == 2: \n",
    "    #     print(item.select('span')[1].string)\n",
    "    # elif len(item.select('span')) == 3: \n",
    "    #     print(item.select('span')[2].string)\n",
    "    print(item.select('span')[-1].string)\n",
    "        \n",
    "    "
   ]
  },
  {
   "cell_type": "code",
   "execution_count": 7,
   "metadata": {},
   "outputs": [
    {
     "name": "stdout",
     "output_type": "stream",
     "text": [
      "Excel, Python, R 활용비즈니스데이터분석\n",
      "이지파이썬 2\n",
      "이지파이썬 1\n",
      "파이썬 아키텍처 패턴\n",
      "파이썬과 코랩기반의 OpenCV로 배우는 영상처리\n",
      "[무료특별판] 미국 주식으로 시작하는 슬기로운 퀀트투자\n",
      "초보자를 위한 파이썬(Python) 200제\n",
      "[epub3.0] (Better Python Code)파이썬 코딩의 기술 51\n",
      "파이썬으로 시작하는 데이터 분석\n",
      "생활코딩! 파이썬\n",
      "2024 빅데이터분석기사 실기 한권완성: 파이썬(Python)\n",
      "누구나 할 수 있다 파이썬 Python 기초\n",
      "초보자를 위한 파이썬(Python) 200제\n",
      "마야 파이썬 2024\n",
      "파이썬(Python) 3학년 머신러닝의 구조\n",
      "작심 3일 파이썬 Python\n",
      "마야 파이썬 2024\n",
      "파이썬(Python)\n",
      "Python(파이썬)과 Matplotlib, NumPy, Pandas\n",
      "파이썬(Python) 3학년 머신러닝의 구조\n"
     ]
    }
   ],
   "source": [
    "\n",
    "for i in range(0,10):\n",
    "    if i == 0:\n",
    "        url = 'https://search.kyobobook.co.kr/search?keyword=python&gbCode=TOT&target=total'\n",
    "    else:\n",
    "        url = 'https://search.kyobobook.co.kr/search?keyword=python&gbCode=TOT&target=total' + str(i+1)\n",
    "    # print(\"url: \",url)\n",
    "    res = requests.get(url)\n",
    "    soup = BeautifulSoup(res.content,'html.parser')\n",
    "    items = soup.select('div.auto_overflow_inner a.prod_info')\n",
    "    for item in items:\n",
    "        print(item.select('span')[-1].string)"
   ]
  },
  {
   "cell_type": "code",
   "execution_count": 14,
   "metadata": {},
   "outputs": [
    {
     "name": "stdout",
     "output_type": "stream",
     "text": [
      "Excel, Python, R 활용비즈니스데이터분석  26,100\n",
      "이지파이썬 2  14,400\n",
      "이지파이썬 1  14,400\n",
      "파이썬 아키텍처 패턴  38,700\n",
      "파이썬과 코랩기반의 OpenCV로 배우는 영상처리  22,500\n",
      "[무료특별판] 미국 주식으로 시작하는 슬기로운 퀀트투자  무료도서\n",
      "초보자를 위한 파이썬(Python) 200제  18,000\n",
      "[epub3.0] (Better Python Code)파이썬 코딩의 기술 51  파이썬으로 시작하는 데이터 분석  19,800\n",
      "생활코딩! 파이썬  16,200\n",
      "2024 빅데이터분석기사 실기 한권완성: 파이썬(Python)  27,000\n",
      "누구나 할 수 있다 파이썬 Python 기초  초보자를 위한 파이썬(Python) 200제  마야 파이썬 2024  25,000\n",
      "파이썬(Python) 3학년 머신러닝의 구조  16,200\n",
      "작심 3일 파이썬 Python  16,200\n",
      "마야 파이썬 2024  파이썬(Python)  Python(파이썬)과 Matplotlib, NumPy, Pandas  파이썬(Python) 3학년 머신러닝의 구조  [eBook] [epub3.0] (Better Python Code)파이썬 코딩의 기술 51  23,760\n",
      "[eBook] 파이썬(Python)  14,490\n",
      "[국내도서] 파이썬으로 시작하는 데이터 분석  19,800\n",
      "[국내도서] 초보자를 위한 파이썬(Python) 200제  18,000\n",
      "[국내도서] 처음 시작하는 FastAPI  23,400\n",
      "[국내도서] Do it! 점프 투 파이썬  19,800\n",
      "[국내도서] 파이썬 코딩의 기술 51  29,700\n",
      "[국내도서] 생활코딩! 파이썬  16,200\n",
      "[국내도서] 25가지 문제로 배우는 LLM 입문 with 파이썬  25,200\n",
      "[eBook] 누구나 할 수 있다 파이썬 Python 기초  8,010\n",
      "[eBook] 마야 파이썬 2024  17,100\n",
      "[국내도서] 파이썬과 자바스크립트로 배우는 OpenAI 프로그래밍  28,800\n",
      "[국내도서] 데이터과학을 위한 확률.통계: R과 Python의 활용  24,000\n",
      "[eBook] [무료특별판] 미국 주식으로 시작하는 슬기로운 퀀트투자  0\n",
      "[국내도서] 파이썬으로 구현하는 로보어드바이저  32,400\n"
     ]
    }
   ],
   "source": [
    "import requests\n",
    "from bs4 import BeautifulSoup\n",
    "url = 'https://search.kyobobook.co.kr/search?keyword=python&gbCode=TOT&target=total'\n",
    "    \n",
    "res = requests.get(url)\n",
    "soup = BeautifulSoup(res.content,'html.parser')\n",
    "items = soup.select('div.prod_info_box')\n",
    "for item in items:\n",
    "    prods = item.select('a.prod_info')\n",
    "    vals = item.select('div.prod_price span.price span.val')\n",
    "    print(prods[-1].select('span')[-1].string,end='  ')\n",
    "    for val in vals:\n",
    "        print(str(val).split('>')[1][:-6])\n",
    "        #print(str(val).split('>')[1][:-6])\n",
    "\n"
   ]
  },
  {
   "cell_type": "code",
   "execution_count": null,
   "metadata": {},
   "outputs": [],
   "source": []
  }
 ],
 "metadata": {
  "kernelspec": {
   "display_name": "venv",
   "language": "python",
   "name": "python3"
  },
  "language_info": {
   "codemirror_mode": {
    "name": "ipython",
    "version": 3
   },
   "file_extension": ".py",
   "mimetype": "text/x-python",
   "name": "python",
   "nbconvert_exporter": "python",
   "pygments_lexer": "ipython3",
   "version": "3.12.4"
  }
 },
 "nbformat": 4,
 "nbformat_minor": 2
}
