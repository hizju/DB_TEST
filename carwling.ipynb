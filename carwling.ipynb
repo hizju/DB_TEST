{
 "cells": [
  {
   "cell_type": "code",
   "execution_count": 2,
   "id": "00e454cf-5b4c-42e6-81f2-9b12a8482ef4",
   "metadata": {},
   "outputs": [],
   "source": [
    "import requests\n",
    "from bs4 import BeautifulSoup"
   ]
  },
  {
   "cell_type": "code",
   "execution_count": 45,
   "id": "981a6133-3579-42da-aac9-d93c6918e8d5",
   "metadata": {},
   "outputs": [],
   "source": [
    "#res = requests.get('http://v.media.daum.net/v/20170615203441266')\n",
    "res = requests.get('https://v.daum.net/v/20240822151614752')"
   ]
  },
  {
   "cell_type": "code",
   "execution_count": 46,
   "id": "652d65ec-399e-49c0-8e65-43cd1c1538f6",
   "metadata": {},
   "outputs": [],
   "source": [
    "soup = BeautifulSoup(res.content,'html.parser')"
   ]
  },
  {
   "cell_type": "code",
   "execution_count": 47,
   "id": "9bab6f31-d009-4eb9-a7e4-a419dc9fb0e0",
   "metadata": {},
   "outputs": [
    {
     "data": {
      "text/plain": [
       "<title>인사동 화재로 300명 대피… 건물 쓰레기장서 발화</title>"
      ]
     },
     "execution_count": 47,
     "metadata": {},
     "output_type": "execute_result"
    }
   ],
   "source": [
    "soup.find('title')"
   ]
  },
  {
   "cell_type": "code",
   "execution_count": 48,
   "id": "923f79d1-c7a0-4fea-9f51-21c745a7b788",
   "metadata": {},
   "outputs": [
    {
     "data": {
      "text/plain": [
       "<h1 class=\"doc-title\"> <a class=\"link_daum\" data-tiara=\"로고\" data-tiara-action-name=\"GNB다음로고_클릭\" href=\"//daum.net\"> <img alt=\"Daum\" class=\"logo_daum\" height=\"18\" src=\"//t1.daumcdn.net/media/common/newsview_2021/pc/rtn/logo_daum.png\" width=\"44\"/> </a> <a data-tiara=\"언론사명\" data-tiara-action-name=\"GNB언론사명_클릭\" href=\"https://v.daum.net/channel/45/home\" id=\"kakaoServiceLogo\">국민일보</a> </h1>"
      ]
     },
     "execution_count": 48,
     "metadata": {},
     "output_type": "execute_result"
    }
   ],
   "source": [
    "soup.find('h1')"
   ]
  },
  {
   "cell_type": "code",
   "execution_count": 49,
   "id": "6866a054-a7ef-4dad-82af-4192d8eeba8a",
   "metadata": {},
   "outputs": [],
   "source": [
    "mydata = soup.find('title')"
   ]
  },
  {
   "cell_type": "code",
   "execution_count": 50,
   "id": "0002c90b-61b7-4e70-85f0-80e05192ec73",
   "metadata": {},
   "outputs": [
    {
     "data": {
      "text/plain": [
       "'인사동 화재로 300명 대피… 건물 쓰레기장서 발화'"
      ]
     },
     "execution_count": 50,
     "metadata": {},
     "output_type": "execute_result"
    }
   ],
   "source": [
    "mydata.get_text()"
   ]
  },
  {
   "cell_type": "code",
   "execution_count": 51,
   "id": "cc095803-8bf2-402c-979f-765877db6acb",
   "metadata": {},
   "outputs": [
    {
     "data": {
      "text/plain": [
       "<title>인사동 화재로 300명 대피… 건물 쓰레기장서 발화</title>"
      ]
     },
     "execution_count": 51,
     "metadata": {},
     "output_type": "execute_result"
    }
   ],
   "source": [
    "mydata"
   ]
  },
  {
   "cell_type": "code",
   "execution_count": 52,
   "id": "493068ec-99c9-4d24-ad78-db43bccd2622",
   "metadata": {},
   "outputs": [
    {
     "data": {
      "text/plain": [
       "<html> <body> <h1 id=\"title\">[1]크롤링이란?</h1> <p class=\"cssstyle\">웹페이지에서 필요한 데이터를 추출하는 것</p> <p align=\"center\" id=\"body\">파이썬을 중심으로 다양한 웹크롤링 기술 발달</p> </body> </html>"
      ]
     },
     "execution_count": 52,
     "metadata": {},
     "output_type": "execute_result"
    }
   ],
   "source": [
    "from bs4 import BeautifulSoup\n",
    "html = \"<html> \\\n",
    "          <body> \\\n",
    "            <h1 id='title'>[1]크롤링이란?</h1> \\\n",
    "            <p class='cssstyle'>웹페이지에서 필요한 데이터를 추출하는 것</p> \\\n",
    "            <p id='body' align='center'>파이썬을 중심으로 다양한 웹크롤링 기술 발달</p> \\\n",
    "          </body> \\\n",
    "        </html>\"\n",
    "\n",
    "soup = BeautifulSoup(html,\"html.parser\")\n",
    "soup"
   ]
  },
  {
   "cell_type": "code",
   "execution_count": 53,
   "id": "73d09c50",
   "metadata": {},
   "outputs": [
    {
     "data": {
      "text/plain": [
       "<h1 id=\"title\">[1]크롤링이란?</h1>"
      ]
     },
     "execution_count": 53,
     "metadata": {},
     "output_type": "execute_result"
    }
   ],
   "source": [
    "data = soup.find('h1')\n",
    "data"
   ]
  },
  {
   "cell_type": "code",
   "execution_count": 54,
   "id": "b32db508",
   "metadata": {},
   "outputs": [
    {
     "data": {
      "text/plain": [
       "'[1]크롤링이란?'"
      ]
     },
     "execution_count": 54,
     "metadata": {},
     "output_type": "execute_result"
    }
   ],
   "source": [
    "data.string"
   ]
  },
  {
   "cell_type": "code",
   "execution_count": 55,
   "id": "426c87cf",
   "metadata": {},
   "outputs": [
    {
     "data": {
      "text/plain": [
       "'[1]크롤링이란?'"
      ]
     },
     "execution_count": 55,
     "metadata": {},
     "output_type": "execute_result"
    }
   ],
   "source": [
    "data.get_text()"
   ]
  },
  {
   "cell_type": "code",
   "execution_count": 56,
   "id": "de8d8bb8",
   "metadata": {},
   "outputs": [
    {
     "data": {
      "text/plain": [
       "<p class=\"cssstyle\">웹페이지에서 필요한 데이터를 추출하는 것</p>"
      ]
     },
     "execution_count": 56,
     "metadata": {},
     "output_type": "execute_result"
    }
   ],
   "source": [
    "data = soup.find('p')\n",
    "data"
   ]
  },
  {
   "cell_type": "code",
   "execution_count": 57,
   "id": "3b8852a7",
   "metadata": {},
   "outputs": [
    {
     "data": {
      "text/plain": [
       "<html> <body> <h1 id=\"title\">[1]크롤링이란?</h1> <p class=\"cssstyle\">웹페이지에서 필요한 데이터를 추출하는 것</p> <p align=\"center\" id=\"body\">파이썬을 중심으로 다양한 웹크롤링 기술 발달</p> <div> 지금 파이썬을 배우자 </div> </body> </html>"
      ]
     },
     "execution_count": 57,
     "metadata": {},
     "output_type": "execute_result"
    }
   ],
   "source": [
    "from bs4 import BeautifulSoup\n",
    "html = \"<html> \\\n",
    "          <body> \\\n",
    "            <h1 id='title'>[1]크롤링이란?</h1> \\\n",
    "            <p class='cssstyle'>웹페이지에서 필요한 데이터를 추출하는 것</p> \\\n",
    "            <p id='body' align='center'>파이썬을 중심으로 다양한 웹크롤링 기술 발달</p> \\\n",
    "            <div> 지금 파이썬을 배우자 </div> \\\n",
    "          </body> \\\n",
    "        </html>\"\n",
    "\n",
    "soup = BeautifulSoup(html,\"html.parser\")\n",
    "soup"
   ]
  },
  {
   "cell_type": "code",
   "execution_count": 58,
   "id": "e6437a62",
   "metadata": {},
   "outputs": [],
   "source": [
    "# HTML 언어 이해를 기반으로 크롤링해보기\n",
    "# p태그 문장이 두개인데 이중에 하나를 선택하려면?\n",
    "# 1. data = soup.find('p', class_='cssstyle')\n",
    "# 2. data = soup.find('p', 'cssstyle')\n",
    "# 3. data = soup.find('p', attrs={'align':'center'})\n",
    "# 4. data = soup.find(id='body')"
   ]
  },
  {
   "cell_type": "code",
   "execution_count": 59,
   "id": "db531e03",
   "metadata": {},
   "outputs": [
    {
     "name": "stdout",
     "output_type": "stream",
     "text": [
      "<p class=\"cssstyle\">웹페이지에서 필요한 데이터를 추출하는 것</p>\n",
      "웹페이지에서 필요한 데이터를 추출하는 것\n"
     ]
    },
    {
     "data": {
      "text/plain": [
       "'웹페이지에서 필요한 데이터를 추출하는 것'"
      ]
     },
     "execution_count": 59,
     "metadata": {},
     "output_type": "execute_result"
    }
   ],
   "source": [
    "# 1.\n",
    "data = soup.find('p', class_ = 'cssstyle')\n",
    "print(data)\n",
    "print(data.string)\n",
    "data.get_text()"
   ]
  },
  {
   "cell_type": "code",
   "execution_count": 60,
   "id": "799f648f",
   "metadata": {},
   "outputs": [
    {
     "name": "stdout",
     "output_type": "stream",
     "text": [
      "<p class=\"cssstyle\">웹페이지에서 필요한 데이터를 추출하는 것</p>\n",
      "웹페이지에서 필요한 데이터를 추출하는 것\n"
     ]
    },
    {
     "data": {
      "text/plain": [
       "'웹페이지에서 필요한 데이터를 추출하는 것'"
      ]
     },
     "execution_count": 60,
     "metadata": {},
     "output_type": "execute_result"
    }
   ],
   "source": [
    "# 2.\n",
    "data = soup.find('p', 'cssstyle')  # p태그 class가 cssstyle인것 \n",
    "print(data)\n",
    "print(data.string)\n",
    "data.get_text()"
   ]
  },
  {
   "cell_type": "code",
   "execution_count": 61,
   "id": "32675760",
   "metadata": {},
   "outputs": [
    {
     "name": "stdout",
     "output_type": "stream",
     "text": [
      "<p align=\"center\" id=\"body\">파이썬을 중심으로 다양한 웹크롤링 기술 발달</p>\n",
      "파이썬을 중심으로 다양한 웹크롤링 기술 발달\n"
     ]
    },
    {
     "data": {
      "text/plain": [
       "'파이썬을 중심으로 다양한 웹크롤링 기술 발달'"
      ]
     },
     "execution_count": 61,
     "metadata": {},
     "output_type": "execute_result"
    }
   ],
   "source": [
    "# 3.\n",
    "data = soup.find('p', attrs={'align':'center'})\n",
    "print(data)\n",
    "print(data.string)\n",
    "data.get_text()"
   ]
  },
  {
   "cell_type": "code",
   "execution_count": 62,
   "id": "8ba7bd51",
   "metadata": {},
   "outputs": [
    {
     "name": "stdout",
     "output_type": "stream",
     "text": [
      "<p align=\"center\" id=\"body\">파이썬을 중심으로 다양한 웹크롤링 기술 발달</p>\n",
      "파이썬을 중심으로 다양한 웹크롤링 기술 발달\n"
     ]
    },
    {
     "data": {
      "text/plain": [
       "'파이썬을 중심으로 다양한 웹크롤링 기술 발달'"
      ]
     },
     "execution_count": 62,
     "metadata": {},
     "output_type": "execute_result"
    }
   ],
   "source": [
    "data = soup.find('p', attrs={'id': 'body','align':'center'})\n",
    "print(data)\n",
    "print(data.string)\n",
    "data.get_text()"
   ]
  },
  {
   "cell_type": "code",
   "execution_count": 63,
   "id": "69c39d97",
   "metadata": {},
   "outputs": [
    {
     "name": "stdout",
     "output_type": "stream",
     "text": [
      "<p align=\"center\" id=\"body\">파이썬을 중심으로 다양한 웹크롤링 기술 발달</p>\n",
      "파이썬을 중심으로 다양한 웹크롤링 기술 발달\n"
     ]
    },
    {
     "data": {
      "text/plain": [
       "'파이썬을 중심으로 다양한 웹크롤링 기술 발달'"
      ]
     },
     "execution_count": 63,
     "metadata": {},
     "output_type": "execute_result"
    }
   ],
   "source": [
    "# 4.\n",
    "data = soup.find(id='body')\n",
    "print(data)\n",
    "print(data.string)\n",
    "data.get_text()"
   ]
  },
  {
   "cell_type": "code",
   "execution_count": 64,
   "id": "fb5efaed",
   "metadata": {},
   "outputs": [
    {
     "name": "stdout",
     "output_type": "stream",
     "text": [
      "<p align=\"center\" id=\"body\">파이썬을 중심으로 다양한 웹크롤링 기술 발달</p>\n",
      "파이썬을 중심으로 다양한 웹크롤링 기술 발달\n"
     ]
    },
    {
     "data": {
      "text/plain": [
       "'파이썬을 중심으로 다양한 웹크롤링 기술 발달'"
      ]
     },
     "execution_count": 64,
     "metadata": {},
     "output_type": "execute_result"
    }
   ],
   "source": [
    "data = soup.find('p', id = 'body')\n",
    "print(data)\n",
    "print(data.string)\n",
    "data.get_text()"
   ]
  },
  {
   "cell_type": "code",
   "execution_count": 65,
   "id": "fa29fff5",
   "metadata": {},
   "outputs": [
    {
     "data": {
      "text/plain": [
       "<html> <body> <h1 id=\"title\">[1]크롤링이란?</h1> <p class=\"cssstyle\">웹페이지에서 필요한 데이터를 추출하는 것</p> <p align=\"center\" id=\"body\">파이썬을 중심으로 다양한 웹크롤링 기술 발달</p> <div> 지금 파이썬을 배우자 </div> </body> </html>"
      ]
     },
     "execution_count": 65,
     "metadata": {},
     "output_type": "execute_result"
    }
   ],
   "source": [
    "from bs4 import BeautifulSoup\n",
    "html = \"<html> \\\n",
    "          <body> \\\n",
    "            <h1 id='title'>[1]크롤링이란?</h1> \\\n",
    "            <p class='cssstyle'>웹페이지에서 필요한 데이터를 추출하는 것</p> \\\n",
    "            <p id='body' align='center'>파이썬을 중심으로 다양한 웹크롤링 기술 발달</p> \\\n",
    "            <div> 지금 파이썬을 배우자 </div> \\\n",
    "          </body> \\\n",
    "        </html>\"\n",
    "\n",
    "soup = BeautifulSoup(html,\"html.parser\")\n",
    "soup"
   ]
  },
  {
   "cell_type": "code",
   "execution_count": 66,
   "id": "eb9ac0d2",
   "metadata": {},
   "outputs": [
    {
     "name": "stdout",
     "output_type": "stream",
     "text": [
      "웹페이지에서 필요한 데이터를 추출하는 것\n",
      "파이썬을 중심으로 다양한 웹크롤링 기술 발달\n"
     ]
    }
   ],
   "source": [
    "data_all = soup.find_all('p')\n",
    "for data in data_all:\n",
    "    print(data.get_text())"
   ]
  },
  {
   "cell_type": "code",
   "execution_count": 1,
   "id": "1649caa1",
   "metadata": {},
   "outputs": [],
   "source": [
    "html=\"\"\"\n",
    "<html lang=\"ko\">\n",
    "<head>\n",
    "<meta charset=\"utf-8\" />\n",
    "<title>커리큘럼 테스트</title>\n",
    "<style>\n",
    "#logo {\n",
    "    max-width: 100%;\n",
    "}\n",
    "</style>\n",
    "</head>\n",
    "<body>\n",
    "<h1>크롤링 테스트 페이지</h1>\n",
    "\n",
    "<h3>나만의 엣지있는 블로그 사이트 만들기</h3>\n",
    "<ul id=\"hobby_course_list\">\n",
    "    <li class=\"course\"><a href=\"#\">(왕초보) - 클래스 소개</a></li>\n",
    "    <li class=\"course\"><a href=\"#\">(왕초보) - 블로그 개발 필요한 준비물 준비하기</a></li>\n",
    "    <li class=\"course\"><a href=\"#\">(왕초보) - Github pages 설정해서 블로그 첫 페이지 만들어보기</a></li>\n",
    "    <li class=\"course\"><a href=\"#\">(왕초보) - 초간단 페이지 만들어보기</a></li>\n",
    "    <li class=\"course\"><a href=\"#\">(왕초보) - 이쁘게 테마 적용해보기</a></li>\n",
    "    <li class=\"course\"><a href=\"#\">(왕초보) - 마크다운 기초 이해하고, 실제 나만의 블로그 페이지 만들기</a></li>\n",
    "    <li class=\"course\"><a href=\"#\">(왕초보) - 다양한 마크다운 기법 익혀보며, 나만의 블로그 페이지 꾸며보기</a></li>\n",
    "</ul>\n",
    "\n",
    "<h3>당신의 커리어에 파이썬을 입히세요! 자신만의 자동 프로그램까지 가져가는 특별한 강의</h3>\n",
    "<ul id=\"dev_course_list\">\n",
    "    <li class=\"course\"><a href=\"#\">(초급) - 강사가 실제 사용하는 자동 프로그램 소개 [2]</a></li>\n",
    "    <li class=\"course\"><a href=\"#\">(초급) - 필요한 프로그램 설치 시연 [5]</a></li>\n",
    "    <li class=\"course\"><a href=\"#\">(초급) - 데이터를 엑셀 파일로 만들기 [9]</a></li>\n",
    "    <li class=\"course\"><a href=\"#\">(초급) - &nbsp;&nbsp;&nbsp;&nbsp;엑셀 파일 이쁘게! 이쁘게! [8]</a></li>\n",
    "    <li class=\"course\"><a href=\"#\">(초급) - &nbsp;&nbsp;&nbsp;&nbsp;나대신 주기적으로 파이썬 프로그램 실행하기 [7]</a></li>\n",
    "    <li class=\"course\"><a href=\"#\">(초급) - 파이썬으로 슬랙(slack) 메신저에 글쓰기 [40]</a></li>\n",
    "    <li class=\"course\"><a href=\"#\">(초급) - 웹사이트 변경사항 주기적으로 체크해서, 메신저로 알람주기 [12]</a></li>\n",
    "    <li class=\"course\"><a href=\"#\">(초급) - 네이버 API 사용해서, 블로그에 글쓰기 [42]</a></li>\n",
    "    <li class=\"course\"><a href=\"#\">(중급) - 자동으로 쿠팡파트너스 API 로 가져온 상품 정보, 네이버 블로그/트위터에 홍보하기 [412]</a></li>\n",
    "</ul>\n",
    "</body>\n",
    "</html>\n",
    "\"\"\""
   ]
  },
  {
   "cell_type": "code",
   "execution_count": 3,
   "id": "f912d011",
   "metadata": {},
   "outputs": [
    {
     "name": "stdout",
     "output_type": "stream",
     "text": [
      "(왕초보) - 클래스 소개\n",
      "(왕초보) - 블로그 개발 필요한 준비물 준비하기\n",
      "(왕초보) - Github pages 설정해서 블로그 첫 페이지 만들어보기\n",
      "(왕초보) - 초간단 페이지 만들어보기\n",
      "(왕초보) - 이쁘게 테마 적용해보기\n",
      "(왕초보) - 마크다운 기초 이해하고, 실제 나만의 블로그 페이지 만들기\n",
      "(왕초보) - 다양한 마크다운 기법 익혀보며, 나만의 블로그 페이지 꾸며보기\n",
      "(초급) - 강사가 실제 사용하는 자동 프로그램 소개 [2]\n",
      "(초급) - 필요한 프로그램 설치 시연 [5]\n",
      "(초급) - 데이터를 엑셀 파일로 만들기 [9]\n",
      "(초급) -     엑셀 파일 이쁘게! 이쁘게! [8]\n",
      "(초급) -     나대신 주기적으로 파이썬 프로그램 실행하기 [7]\n",
      "(초급) - 파이썬으로 슬랙(slack) 메신저에 글쓰기 [40]\n",
      "(초급) - 웹사이트 변경사항 주기적으로 체크해서, 메신저로 알람주기 [12]\n",
      "(초급) - 네이버 API 사용해서, 블로그에 글쓰기 [42]\n",
      "(중급) - 자동으로 쿠팡파트너스 API 로 가져온 상품 정보, 네이버 블로그/트위터에 홍보하기 [412]\n"
     ]
    }
   ],
   "source": [
    "import requests\n",
    "from bs4 import BeautifulSoup\n",
    "\n",
    "soup = BeautifulSoup(html,\"html.parser\")\n",
    "\n",
    "titles = soup.find_all('li','course')\n",
    "for title in titles:\n",
    "    print(title.get_text())"
   ]
  },
  {
   "cell_type": "code",
   "execution_count": 5,
   "id": "cea6df8d",
   "metadata": {},
   "outputs": [
    {
     "name": "stdout",
     "output_type": "stream",
     "text": [
      "(왕초보) - 클래스 소개\n",
      "(왕초보) - 블로그 개발 필요한 준비물 준비하기\n",
      "(왕초보) - Github pages 설정해서 블로그 첫 페이지 만들어보기\n",
      "(왕초보) - 초간단 페이지 만들어보기\n",
      "(왕초보) - 이쁘게 테마 적용해보기\n",
      "(왕초보) - 마크다운 기초 이해하고, 실제 나만의 블로그 페이지 만들기\n",
      "(왕초보) - 다양한 마크다운 기법 익혀보며, 나만의 블로그 페이지 꾸며보기\n"
     ]
    }
   ],
   "source": [
    "section = soup.find('ul', id='hobby_course_list')\n",
    "titles = section.find_all('li','course')\n",
    "for title in titles:\n",
    "    print(title.get_text())\n"
   ]
  },
  {
   "cell_type": "code",
   "execution_count": 9,
   "id": "724afac3",
   "metadata": {},
   "outputs": [
    {
     "name": "stdout",
     "output_type": "stream",
     "text": [
      "1. 강사가 실제 사용하는 자동 프로그램 소개\n",
      "2. 필요한 프로그램 설치 시연\n",
      "3. 데이터를 엑셀 파일로 만들기\n",
      "4. 엑셀 파일 이쁘게! 이쁘게!\n",
      "5. 나대신 주기적으로 파이썬 프로그램 실행하기\n",
      "6. 파이썬으로 슬랙(slack) 메신저에 글쓰기\n",
      "7. 웹사이트 변경사항 주기적으로 체크해서, 메신저로 알람주기\n",
      "8. 네이버 API 사용해서, 블로그에 글쓰기\n",
      "9. 자동으로 쿠팡파트너스 API 로 가져온 상품 정보, 네이버 블로그/트위터에 홍보하기\n"
     ]
    }
   ],
   "source": [
    "section = soup.find('ul', id='dev_course_list')\n",
    "titles = section.find_all('li', 'course')\n",
    "for index, title in enumerate(titles):\n",
    "    print(str(index + 1) + '.' , title.get_text().split('-')[-1].split('[')[0].strip())"
   ]
  },
  {
   "cell_type": "code",
   "execution_count": 10,
   "id": "fd997a0a",
   "metadata": {},
   "outputs": [
    {
     "data": {
      "text/plain": [
       "\n",
       "<html lang=\"ko\">\n",
       "<head>\n",
       "<meta charset=\"utf-8\"/>\n",
       "<title>커리큘럼 테스트</title>\n",
       "<style>\n",
       "#logo {\n",
       "    max-width: 100%;\n",
       "}\n",
       "</style>\n",
       "</head>\n",
       "<body>\n",
       "<h1>크롤링 테스트 페이지</h1>\n",
       "<h3>나만의 엣지있는 블로그 사이트 만들기</h3>\n",
       "<ul id=\"hobby_course_list\">\n",
       "<li class=\"course\"><a href=\"#\">(왕초보) - 클래스 소개</a></li>\n",
       "<li class=\"course\"><a href=\"#\">(왕초보) - 블로그 개발 필요한 준비물 준비하기</a></li>\n",
       "<li class=\"course\"><a href=\"#\">(왕초보) - Github pages 설정해서 블로그 첫 페이지 만들어보기</a></li>\n",
       "<li class=\"course\"><a href=\"#\">(왕초보) - 초간단 페이지 만들어보기</a></li>\n",
       "<li class=\"course\"><a href=\"#\">(왕초보) - 이쁘게 테마 적용해보기</a></li>\n",
       "<li class=\"course\"><a href=\"#\">(왕초보) - 마크다운 기초 이해하고, 실제 나만의 블로그 페이지 만들기</a></li>\n",
       "<li class=\"course\"><a href=\"#\">(왕초보) - 다양한 마크다운 기법 익혀보며, 나만의 블로그 페이지 꾸며보기</a></li>\n",
       "</ul>\n",
       "<h3>당신의 커리어에 파이썬을 입히세요! 자신만의 자동 프로그램까지 가져가는 특별한 강의</h3>\n",
       "<ul id=\"dev_course_list\">\n",
       "<li class=\"course\"><a href=\"#\">(초급) - 강사가 실제 사용하는 자동 프로그램 소개 [2]</a></li>\n",
       "<li class=\"course\"><a href=\"#\">(초급) - 필요한 프로그램 설치 시연 [5]</a></li>\n",
       "<li class=\"course\"><a href=\"#\">(초급) - 데이터를 엑셀 파일로 만들기 [9]</a></li>\n",
       "<li class=\"course\"><a href=\"#\">(초급) -     엑셀 파일 이쁘게! 이쁘게! [8]</a></li>\n",
       "<li class=\"course\"><a href=\"#\">(초급) -     나대신 주기적으로 파이썬 프로그램 실행하기 [7]</a></li>\n",
       "<li class=\"course\"><a href=\"#\">(초급) - 파이썬으로 슬랙(slack) 메신저에 글쓰기 [40]</a></li>\n",
       "<li class=\"course\"><a href=\"#\">(초급) - 웹사이트 변경사항 주기적으로 체크해서, 메신저로 알람주기 [12]</a></li>\n",
       "<li class=\"course\"><a href=\"#\">(초급) - 네이버 API 사용해서, 블로그에 글쓰기 [42]</a></li>\n",
       "<li class=\"course\"><a href=\"#\">(중급) - 자동으로 쿠팡파트너스 API 로 가져온 상품 정보, 네이버 블로그/트위터에 홍보하기 [412]</a></li>\n",
       "</ul>\n",
       "</body>\n",
       "</html>"
      ]
     },
     "execution_count": 10,
     "metadata": {},
     "output_type": "execute_result"
    }
   ],
   "source": [
    "soup"
   ]
  },
  {
   "cell_type": "code",
   "execution_count": 11,
   "id": "aeeb3082",
   "metadata": {},
   "outputs": [
    {
     "name": "stdout",
     "output_type": "stream",
     "text": [
      "나만의 엣지있는 블로그 사이트 만들기\n",
      "당신의 커리어에 파이썬을 입히세요! 자신만의 자동 프로그램까지 가져가는 특별한 강의\n"
     ]
    }
   ],
   "source": [
    "# 태그 선택\n",
    "items = soup.select('h3')\n",
    "for item in items:\n",
    "    print(item.get_text())"
   ]
  },
  {
   "cell_type": "code",
   "execution_count": 12,
   "id": "9bb3e022",
   "metadata": {},
   "outputs": [
    {
     "name": "stdout",
     "output_type": "stream",
     "text": [
      "(왕초보) - 클래스 소개\n",
      "(왕초보) - 블로그 개발 필요한 준비물 준비하기\n",
      "(왕초보) - Github pages 설정해서 블로그 첫 페이지 만들어보기\n",
      "(왕초보) - 초간단 페이지 만들어보기\n",
      "(왕초보) - 이쁘게 테마 적용해보기\n",
      "(왕초보) - 마크다운 기초 이해하고, 실제 나만의 블로그 페이지 만들기\n",
      "(왕초보) - 다양한 마크다운 기법 익혀보며, 나만의 블로그 페이지 꾸며보기\n",
      "(초급) - 강사가 실제 사용하는 자동 프로그램 소개 [2]\n",
      "(초급) - 필요한 프로그램 설치 시연 [5]\n",
      "(초급) - 데이터를 엑셀 파일로 만들기 [9]\n",
      "(초급) -     엑셀 파일 이쁘게! 이쁘게! [8]\n",
      "(초급) -     나대신 주기적으로 파이썬 프로그램 실행하기 [7]\n",
      "(초급) - 파이썬으로 슬랙(slack) 메신저에 글쓰기 [40]\n",
      "(초급) - 웹사이트 변경사항 주기적으로 체크해서, 메신저로 알람주기 [12]\n",
      "(초급) - 네이버 API 사용해서, 블로그에 글쓰기 [42]\n",
      "(중급) - 자동으로 쿠팡파트너스 API 로 가져온 상품 정보, 네이버 블로그/트위터에 홍보하기 [412]\n"
     ]
    }
   ],
   "source": [
    "items = soup.select('ul li')\n",
    "for item in items:\n",
    "    print(item.get_text())"
   ]
  },
  {
   "cell_type": "code",
   "execution_count": 13,
   "id": "d61dc121",
   "metadata": {},
   "outputs": [
    {
     "name": "stdout",
     "output_type": "stream",
     "text": [
      "(왕초보) - 클래스 소개\n",
      "(왕초보) - 블로그 개발 필요한 준비물 준비하기\n",
      "(왕초보) - Github pages 설정해서 블로그 첫 페이지 만들어보기\n",
      "(왕초보) - 초간단 페이지 만들어보기\n",
      "(왕초보) - 이쁘게 테마 적용해보기\n",
      "(왕초보) - 마크다운 기초 이해하고, 실제 나만의 블로그 페이지 만들기\n",
      "(왕초보) - 다양한 마크다운 기법 익혀보며, 나만의 블로그 페이지 꾸며보기\n",
      "(초급) - 강사가 실제 사용하는 자동 프로그램 소개 [2]\n",
      "(초급) - 필요한 프로그램 설치 시연 [5]\n",
      "(초급) - 데이터를 엑셀 파일로 만들기 [9]\n",
      "(초급) -     엑셀 파일 이쁘게! 이쁘게! [8]\n",
      "(초급) -     나대신 주기적으로 파이썬 프로그램 실행하기 [7]\n",
      "(초급) - 파이썬으로 슬랙(slack) 메신저에 글쓰기 [40]\n",
      "(초급) - 웹사이트 변경사항 주기적으로 체크해서, 메신저로 알람주기 [12]\n",
      "(초급) - 네이버 API 사용해서, 블로그에 글쓰기 [42]\n",
      "(중급) - 자동으로 쿠팡파트너스 API 로 가져온 상품 정보, 네이버 블로그/트위터에 홍보하기 [412]\n"
     ]
    }
   ],
   "source": [
    "items = soup.select('ul a')\n",
    "for item in items:\n",
    "    print(item.get_text())"
   ]
  },
  {
   "cell_type": "code",
   "execution_count": 14,
   "id": "1d9ab749",
   "metadata": {},
   "outputs": [],
   "source": [
    "items = soup.select('ul > a')  # ul 태그 및 바로 a 태그\n",
    "for item in items: \n",
    "    print(item.get_text())"
   ]
  },
  {
   "cell_type": "code",
   "execution_count": 15,
   "id": "0f6ee19e",
   "metadata": {},
   "outputs": [
    {
     "name": "stdout",
     "output_type": "stream",
     "text": [
      "(왕초보) - 클래스 소개\n",
      "(왕초보) - 블로그 개발 필요한 준비물 준비하기\n",
      "(왕초보) - Github pages 설정해서 블로그 첫 페이지 만들어보기\n",
      "(왕초보) - 초간단 페이지 만들어보기\n",
      "(왕초보) - 이쁘게 테마 적용해보기\n",
      "(왕초보) - 마크다운 기초 이해하고, 실제 나만의 블로그 페이지 만들기\n",
      "(왕초보) - 다양한 마크다운 기법 익혀보며, 나만의 블로그 페이지 꾸며보기\n",
      "(초급) - 강사가 실제 사용하는 자동 프로그램 소개 [2]\n",
      "(초급) - 필요한 프로그램 설치 시연 [5]\n",
      "(초급) - 데이터를 엑셀 파일로 만들기 [9]\n",
      "(초급) -     엑셀 파일 이쁘게! 이쁘게! [8]\n",
      "(초급) -     나대신 주기적으로 파이썬 프로그램 실행하기 [7]\n",
      "(초급) - 파이썬으로 슬랙(slack) 메신저에 글쓰기 [40]\n",
      "(초급) - 웹사이트 변경사항 주기적으로 체크해서, 메신저로 알람주기 [12]\n",
      "(초급) - 네이버 API 사용해서, 블로그에 글쓰기 [42]\n",
      "(중급) - 자동으로 쿠팡파트너스 API 로 가져온 상품 정보, 네이버 블로그/트위터에 홍보하기 [412]\n"
     ]
    }
   ],
   "source": [
    "# .클래스 이름이로 검색\n",
    "items = soup.select('.course')  \n",
    "for item in items: \n",
    "    print(item.get_text())"
   ]
  },
  {
   "cell_type": "code",
   "execution_count": 17,
   "id": "7cce8f71",
   "metadata": {},
   "outputs": [
    {
     "name": "stdout",
     "output_type": "stream",
     "text": [
      "\n",
      "(초급) - 강사가 실제 사용하는 자동 프로그램 소개 [2]\n",
      "(초급) - 필요한 프로그램 설치 시연 [5]\n",
      "(초급) - 데이터를 엑셀 파일로 만들기 [9]\n",
      "(초급) -     엑셀 파일 이쁘게! 이쁘게! [8]\n",
      "(초급) -     나대신 주기적으로 파이썬 프로그램 실행하기 [7]\n",
      "(초급) - 파이썬으로 슬랙(slack) 메신저에 글쓰기 [40]\n",
      "(초급) - 웹사이트 변경사항 주기적으로 체크해서, 메신저로 알람주기 [12]\n",
      "(초급) - 네이버 API 사용해서, 블로그에 글쓰기 [42]\n",
      "(중급) - 자동으로 쿠팡파트너스 API 로 가져온 상품 정보, 네이버 블로그/트위터에 홍보하기 [412]\n",
      "\n"
     ]
    }
   ],
   "source": [
    "# # id로  검색\n",
    "items = soup.select('#dev_course_list')  # ul 태그 및 바로 a 태그\n",
    "for item in items: \n",
    "    print(item.get_text())"
   ]
  },
  {
   "cell_type": "code",
   "execution_count": 41,
   "id": "fc0f1a75",
   "metadata": {},
   "outputs": [],
   "source": [
    "html=\"\"\"\n",
    "<html lang=\"ko\">\n",
    "<head>\n",
    "<meta charset=\"utf-8\" />\n",
    "<title>커리큘럼 테스트</title>\n",
    "<style>\n",
    "#logo {\n",
    "    max-width: 100%;\n",
    "}\n",
    "</style>\n",
    "</head>\n",
    "<body>\n",
    "<h1>크롤링 테스트 페이지</h1>\n",
    "\n",
    "<h3>나만의 엣지있는 블로그 사이트 만들기</h3>\n",
    "<ul id=\"hobby_course_list\">\n",
    "    <li class=\"course start\"><a href=\"#\">(왕초보) - 클래스 소개</a></li>\n",
    "    <li class=\"course start\"><a href=\"#\">(왕초보) - 블로그 개발 필요한 준비물 준비하기</a></li>\n",
    "    <li class=\"course\"><a href=\"#\">(왕초보) - Github pages 설정해서 블로그 첫 페이지 만들어보기</a></li>\n",
    "    <li class=\"course\"><a href=\"#\">(왕초보) - 초간단 페이지 만들어보기</a></li>\n",
    "    <li class=\"course\"><a href=\"#\">(왕초보) - 이쁘게 테마 적용해보기</a></li>\n",
    "    <li class=\"course\"><a href=\"#\">(왕초보) - 마크다운 기초 이해하고, 실제 나만의 블로그 페이지 만들기</a></li>\n",
    "    <li class=\"course\"><a href=\"#\">(왕초보) - 다양한 마크다운 기법 익혀보며, 나만의 블로그 페이지 꾸며보기</a></li>\n",
    "</ul>\n",
    "\n",
    "<h3>당신의 커리어에 파이썬을 입히세요! 자신만의 자동 프로그램까지 가져가는 특별한 강의</h3>\n",
    "<ul id=\"dev_course_list\">\n",
    "    <li class=\"course begin\" id='one'><a href=\"#\">(초급) - 강사가 실제 사용하는 자동 프로그램 소개 [2]</a></li>\n",
    "    <li class=\"course begin\" id='two'><a href=\"#\">(초급) - 필요한 프로그램 설치 시연 [5]</a></li>\n",
    "    <li class=\"course\"><a id='three' href=\"#\">(초급) - 데이터를 엑셀 파일로 만들기 [9]</a></li>\n",
    "    <li class=\"course\"><a id='four' href=\"#\">(초급) - &nbsp;&nbsp;&nbsp;&nbsp;엑셀 파일 이쁘게! 이쁘게! [8]</a></li>\n",
    "    <li class=\"course\"><a href=\"#\">(초급) - &nbsp;&nbsp;&nbsp;&nbsp;나대신 주기적으로 파이썬 프로그램 실행하기 [7]</a></li>\n",
    "    <li class=\"course\"><a href=\"#\">(초급) - 파이썬으로 슬랙(slack) 메신저에 글쓰기 [40]</a></li>\n",
    "    <li class=\"course\"><a href=\"#\">(초급) - 웹사이트 변경사항 주기적으로 체크해서, 메신저로 알람주기 [12]</a></li>\n",
    "    <li class=\"course\"><a href=\"#\">(초급) - 네이버 API 사용해서, 블로그에 글쓰기 [42]</a></li>\n",
    "    <li class=\"course paid\" id=\"advance\"><a href=\"#\">(중급) - 자동으로 쿠팡파트너스 API 로 가져온 상품 정보, 네이버 블로그/트위터에 홍보하기 [412]</a></li>\n",
    "</ul>\n",
    "</body>\n",
    "</html>\n",
    "\"\"\""
   ]
  },
  {
   "cell_type": "code",
   "execution_count": 42,
   "id": "016e21e3",
   "metadata": {},
   "outputs": [
    {
     "name": "stdout",
     "output_type": "stream",
     "text": [
      "(왕초보) - 클래스 소개\n",
      "(왕초보) - 블로그 개발 필요한 준비물 준비하기\n"
     ]
    }
   ],
   "source": [
    "soup = BeautifulSoup(html,\"html.parser\")\n",
    "items = soup.select('.course.start')  # ul 태그 및 바로 a 태그\n",
    "for item in items: \n",
    "    print(item.get_text())"
   ]
  },
  {
   "cell_type": "code",
   "execution_count": 43,
   "id": "04568be5",
   "metadata": {},
   "outputs": [
    {
     "name": "stdout",
     "output_type": "stream",
     "text": [
      "(왕초보) - 클래스 소개\n",
      "(왕초보) - 블로그 개발 필요한 준비물 준비하기\n"
     ]
    }
   ],
   "source": [
    "items = soup.select('ul li.course.start')  # ul 태그 및 바로 a 태그\n",
    "for item in items: \n",
    "    print(item.get_text())"
   ]
  },
  {
   "cell_type": "code",
   "execution_count": 44,
   "id": "457d948f",
   "metadata": {},
   "outputs": [
    {
     "name": "stdout",
     "output_type": "stream",
     "text": [
      "\n",
      "(초급) - 강사가 실제 사용하는 자동 프로그램 소개 [2]\n",
      "(초급) - 필요한 프로그램 설치 시연 [5]\n",
      "(초급) - 데이터를 엑셀 파일로 만들기 [9]\n",
      "(초급) -     엑셀 파일 이쁘게! 이쁘게! [8]\n",
      "(초급) -     나대신 주기적으로 파이썬 프로그램 실행하기 [7]\n",
      "(초급) - 파이썬으로 슬랙(slack) 메신저에 글쓰기 [40]\n",
      "(초급) - 웹사이트 변경사항 주기적으로 체크해서, 메신저로 알람주기 [12]\n",
      "(초급) - 네이버 API 사용해서, 블로그에 글쓰기 [42]\n",
      "(중급) - 자동으로 쿠팡파트너스 API 로 가져온 상품 정보, 네이버 블로그/트위터에 홍보하기 [412]\n",
      "\n"
     ]
    }
   ],
   "source": [
    "items = soup.select('ul#dev_course_list')  # ul 태그 및 바로 a 태그\n",
    "for item in items: \n",
    "    print(item.get_text())"
   ]
  },
  {
   "cell_type": "code",
   "execution_count": 45,
   "id": "f430d94f",
   "metadata": {},
   "outputs": [
    {
     "name": "stdout",
     "output_type": "stream",
     "text": [
      "(초급) - 강사가 실제 사용하는 자동 프로그램 소개 [2]\n"
     ]
    }
   ],
   "source": [
    "# <li class=\"course begin\" id='one'>\n",
    "items = soup.select('ul#dev_course_list li#one')  # ul 태그 및 바로 a 태그\n",
    "for item in items: \n",
    "    print(item.get_text())"
   ]
  },
  {
   "cell_type": "code",
   "execution_count": 46,
   "id": "0d328e18",
   "metadata": {},
   "outputs": [
    {
     "name": "stdout",
     "output_type": "stream",
     "text": [
      "(초급) - 강사가 실제 사용하는 자동 프로그램 소개 [2]\n",
      "(초급) - 필요한 프로그램 설치 시연 [5]\n",
      "(초급) - 데이터를 엑셀 파일로 만들기 [9]\n",
      "(초급) -     엑셀 파일 이쁘게! 이쁘게! [8]\n",
      "(초급) -     나대신 주기적으로 파이썬 프로그램 실행하기 [7]\n",
      "(초급) - 파이썬으로 슬랙(slack) 메신저에 글쓰기 [40]\n",
      "(초급) - 웹사이트 변경사항 주기적으로 체크해서, 메신저로 알람주기 [12]\n",
      "(초급) - 네이버 API 사용해서, 블로그에 글쓰기 [42]\n",
      "(중급) - 자동으로 쿠팡파트너스 API 로 가져온 상품 정보, 네이버 블로그/트위터에 홍보하기 [412]\n"
     ]
    }
   ],
   "source": [
    "items = soup.select('ul#dev_course_list li.course')  # ul 태그 및 바로 a 태그\n",
    "for item in items: \n",
    "    print(item.get_text())"
   ]
  },
  {
   "cell_type": "code",
   "execution_count": 47,
   "id": "1305fb29",
   "metadata": {},
   "outputs": [
    {
     "name": "stdout",
     "output_type": "stream",
     "text": [
      "(초급) - 강사가 실제 사용하는 자동 프로그램 소개 [2]\n",
      "(초급) - 필요한 프로그램 설치 시연 [5]\n"
     ]
    }
   ],
   "source": [
    "items = soup.select('ul#dev_course_list li.course.begin')  # ul 태그 및 바로 a 태그\n",
    "for item in items: \n",
    "    print(item.get_text())"
   ]
  },
  {
   "cell_type": "code",
   "execution_count": 48,
   "id": "9e370a18",
   "metadata": {},
   "outputs": [
    {
     "name": "stdout",
     "output_type": "stream",
     "text": [
      "(초급) - 강사가 실제 사용하는 자동 프로그램 소개 [2]\n"
     ]
    }
   ],
   "source": [
    "items = soup.select('ul#dev_course_list li#one.course')  # ul 태그 및 바로 a 태그\n",
    "for item in items: \n",
    "    print(item.get_text())"
   ]
  },
  {
   "cell_type": "code",
   "execution_count": 49,
   "id": "b2f66698",
   "metadata": {},
   "outputs": [
    {
     "name": "stdout",
     "output_type": "stream",
     "text": [
      "(초급) - 필요한 프로그램 설치 시연 [5]\n"
     ]
    }
   ],
   "source": [
    "items = soup.select('ul#dev_course_list li.course#two')  # ul 태그 및 바로 a 태그\n",
    "for item in items: \n",
    "    print(item.get_text())"
   ]
  },
  {
   "cell_type": "code",
   "execution_count": 50,
   "id": "74a186b4",
   "metadata": {},
   "outputs": [
    {
     "name": "stdout",
     "output_type": "stream",
     "text": [
      "(초급) - 필요한 프로그램 설치 시연 [5]\n"
     ]
    }
   ],
   "source": [
    "\n",
    "items = soup.select('ul#dev_course_list li.course#two a' )  # ul 태그 및 바로 a 태그\n",
    "for item in items: \n",
    "    print(item.get_text())"
   ]
  },
  {
   "cell_type": "code",
   "execution_count": 51,
   "id": "9f3ea23b",
   "metadata": {},
   "outputs": [
    {
     "name": "stdout",
     "output_type": "stream",
     "text": [
      "(중급) - 자동으로 쿠팡파트너스 API 로 가져온 상품 정보, 네이버 블로그/트위터에 홍보하기 [412]\n"
     ]
    }
   ],
   "source": [
    "items = soup.select('ul#dev_course_list > li.course.paid' )  # ul 태그 및 바로 a 태그\n",
    "for item in items: \n",
    "    print(item.get_text())"
   ]
  },
  {
   "cell_type": "code",
   "execution_count": 53,
   "id": "0157aa4d",
   "metadata": {},
   "outputs": [
    {
     "name": "stdout",
     "output_type": "stream",
     "text": [
      "(중급) - 자동으로 쿠팡파트너스 API 로 가져온 상품 정보, 네이버 블로그/트위터에 홍보하기 [412]\n"
     ]
    }
   ],
   "source": [
    "# select_one\n",
    "item = soup.select_one('ul#dev_course_list > li.course.paid' )  # ul 태그 및 바로 a 태그\n",
    "print(item.get_text())"
   ]
  },
  {
   "cell_type": "code",
   "execution_count": 54,
   "id": "b79e535c",
   "metadata": {},
   "outputs": [],
   "source": [
    "html=\"\"\"\n",
    "<html lang=\"ko\">\n",
    "<head>\n",
    "<meta charset=\"utf-8\" />\n",
    "<title>커리큘럼 테스트</title>\n",
    "<style>\n",
    "#logo {\n",
    "    max-width: 100%;\n",
    "}\n",
    "</style>\n",
    "</head>\n",
    "<body>\n",
    "<h1>크롤링 테스트 페이지</h1>\n",
    "\n",
    "<h3>나만의 엣지있는 블로그 사이트 만들기</h3>\n",
    "<ul id=\"hobby_course_list\">\n",
    "    <li class=\"course start\"><a href=\"#\">(왕초보) - 클래스 소개</a></li>\n",
    "    <li class=\"course start\"><a href=\"#\">(왕초보) - 블로그 개발 필요한 준비물 준비하기</a></li>\n",
    "    <li class=\"course\"><a href=\"#\">(왕초보) - Github pages 설정해서 블로그 첫 페이지 만들어보기</a></li>\n",
    "    <li class=\"course\"><a href=\"#\">(왕초보) - 초간단 페이지 만들어보기</a></li>\n",
    "    <li class=\"course\"><a href=\"#\">(왕초보) - 이쁘게 테마 적용해보기</a></li>\n",
    "    <li class=\"course\"><a href=\"#\">(왕초보) - 마크다운 기초 이해하고, 실제 나만의 블로그 페이지 만들기</a></li>\n",
    "    <li class=\"course\"><a href=\"#\">(왕초보) - 다양한 마크다운 기법 익혀보며, 나만의 블로그 페이지 꾸며보기</a></li>\n",
    "</ul>\n",
    "\n",
    "<h3>당신의 커리어에 파이썬을 입히세요! 자신만의 자동 프로그램까지 가져가는 특별한 강의</h3>\n",
    "<ul id=\"dev_course_list\">\n",
    "    <li class=\"course begin\" id='one'><a href=\"#\">(초급) - 강사가 실제 사용하는 자동 프로그램 소개 [2]</a></li>\n",
    "    <li class=\"course begin\" id='two'><a href=\"#\">(초급) - 필요한 프로그램 설치 시연 [5]</a></li>\n",
    "    <li class=\"course\"><a id='three' href=\"#\">(초급) - 데이터를 엑셀 파일로 만들기 [9]</a></li>\n",
    "    <li class=\"course\"><a id='four' href=\"#\">(초급) - &nbsp;&nbsp;&nbsp;&nbsp;엑셀 파일 이쁘게! 이쁘게! [8]</a></li>\n",
    "    <li class=\"course\"><a href=\"#\">(초급) - &nbsp;&nbsp;&nbsp;&nbsp;나대신 주기적으로 파이썬 프로그램 실행하기 [7]</a></li>\n",
    "    <li class=\"course\"><a href=\"#\">(초급) - 파이썬으로 슬랙(slack) 메신저에 글쓰기 [40]</a></li>\n",
    "    <li class=\"course\"><a href=\"#\">(초급) - 웹사이트 변경사항 주기적으로 체크해서, 메신저로 알람주기 [12]</a></li>\n",
    "    <li class=\"course\"><a href=\"#\">(초급) - 네이버 API 사용해서, 블로그에 글쓰기 [42]</a></li>\n",
    "    <li class=\"course paid\" id=\"advance\"><a href=\"#\">(중급) - 자동으로 쿠팡파트너스 API 로 가져온 상품 정보, 네이버 블로그/트위터에 홍보하기 [412]</a></li>\n",
    "</ul>\n",
    "<h3>커리큘럼 일정</h3>\n",
    "<table border=\"1\" style=\"border-collapse: collapse;\">\n",
    "    <tbody>\n",
    "            <tr>\n",
    "                <td>일정</td>\n",
    "                <td>커리큘럼 타이틀</td>\n",
    "                <td>난이도</td>\n",
    "            </tr>\n",
    "            <tr>\n",
    "                <td>8.1 ~ 8.15</td>\n",
    "                <td>나만의 엣지있는 블로그 사이트 만들기</td>\n",
    "                <td>초급</td>\n",
    "            </tr>\n",
    "            <tr>\n",
    "                <td>8.16 ~ 9.30</td>\n",
    "                <td>파이썬과 데이터 시각화</td>\n",
    "                <td>중급</td>\n",
    "            </tr>\n",
    "        </tbody>\n",
    "</body>\n",
    "</html>\n",
    "\"\"\""
   ]
  },
  {
   "cell_type": "code",
   "execution_count": 55,
   "id": "411b2f8a",
   "metadata": {},
   "outputs": [
    {
     "name": "stdout",
     "output_type": "stream",
     "text": [
      "일정\n",
      "커리큘럼 타이틀\n",
      "난이도\n",
      "8.1 ~ 8.15\n",
      "나만의 엣지있는 블로그 사이트 만들기\n",
      "초급\n",
      "8.16 ~ 9.30\n",
      "파이썬과 데이터 시각화\n",
      "중급\n"
     ]
    }
   ],
   "source": [
    "soup = BeautifulSoup(html,\"html.parser\")\n",
    "items = soup.select('td')  # ul 태그 및 바로 a 태그\n",
    "for item in items: \n",
    "    print(item.get_text())"
   ]
  },
  {
   "cell_type": "code",
   "execution_count": 57,
   "id": "2e7fbe27",
   "metadata": {},
   "outputs": [
    {
     "name": "stdout",
     "output_type": "stream",
     "text": [
      "일정 커리큘럼 타이틀 난이도 \n",
      "8.1 ~ 8.15 나만의 엣지있는 블로그 사이트 만들기 초급 \n",
      "8.16 ~ 9.30 파이썬과 데이터 시각화 중급 \n"
     ]
    }
   ],
   "source": [
    "soup = BeautifulSoup(html,\"html.parser\")\n",
    "items = soup.select('tr')  # ul 태그 및 바로 a 태그\n",
    "for item in items: \n",
    "    columns = item.select('td')\n",
    "    row_str = ''\n",
    "    for column in columns:\n",
    "        row_str += (column.get_text() + ' ')\n",
    "    print(row_str) "
   ]
  },
  {
   "cell_type": "code",
   "execution_count": 66,
   "id": "b9174c47",
   "metadata": {},
   "outputs": [
    {
     "name": "stdout",
     "output_type": "stream",
     "text": [
      "일정, 커리큘럼 타이틀, 난이도, \n",
      "8.1 ~ 8.15, 나만의 엣지있는 블로그 사이트 만들기, 초급, \n",
      "8.16 ~ 9.30, 파이썬과 데이터 시각화, 중급, \n"
     ]
    }
   ],
   "source": [
    "soup = BeautifulSoup(html,\"html.parser\")\n",
    "items = soup.select('tr')  # ul 태그 및 바로 a 태그\n",
    "for item in items: \n",
    "    columns = item.select('td')\n",
    "    row_str = ''\n",
    "    for column in columns:\n",
    "        row_str += (column.get_text() + ', ')\n",
    "    print(row_str) "
   ]
  },
  {
   "cell_type": "code",
   "execution_count": 65,
   "id": "42e86a91",
   "metadata": {},
   "outputs": [
    {
     "name": "stdout",
     "output_type": "stream",
     "text": [
      "일정, 커리큘럼 타이틀, 난이도,\n",
      "8.1 ~ 8.15, 나만의 엣지있는 블로그 사이트 만들기, 초급,\n",
      "8.16 ~ 9.30, 파이썬과 데이터 시각화, 중급,\n"
     ]
    }
   ],
   "source": [
    "soup = BeautifulSoup(html,\"html.parser\")\n",
    "items = soup.select('tr')  # ul 태그 및 바로 a 태그\n",
    "for item in items: \n",
    "    columns = item.select('td')\n",
    "    row_str = ''\n",
    "    for column in columns:\n",
    "        row_str += (column.get_text() + ', ')\n",
    "    print(row_str[:-1]) "
   ]
  },
  {
   "cell_type": "code",
   "execution_count": 64,
   "id": "090ec171",
   "metadata": {},
   "outputs": [
    {
     "name": "stdout",
     "output_type": "stream",
     "text": [
      ", 일정, 커리큘럼 타이틀, 난이도\n",
      ", 8.1 ~ 8.15, 나만의 엣지있는 블로그 사이트 만들기, 초급\n",
      ", 8.16 ~ 9.30, 파이썬과 데이터 시각화, 중급\n"
     ]
    }
   ],
   "source": [
    "soup = BeautifulSoup(html,\"html.parser\")\n",
    "items = soup.select('tr')  # ul 태그 및 바로 a 태그\n",
    "for item in items: \n",
    "    columns = item.select('td')\n",
    "    row_str = ''\n",
    "    for column in columns:\n",
    "        row_str += (', ' + column.get_text() )\n",
    "    print(row_str) "
   ]
  },
  {
   "cell_type": "code",
   "execution_count": 63,
   "id": "3b567663",
   "metadata": {},
   "outputs": [
    {
     "name": "stdout",
     "output_type": "stream",
     "text": [
      "일정, 커리큘럼 타이틀, 난이도\n",
      "8.1 ~ 8.15, 나만의 엣지있는 블로그 사이트 만들기, 초급\n",
      "8.16 ~ 9.30, 파이썬과 데이터 시각화, 중급\n"
     ]
    }
   ],
   "source": [
    "soup = BeautifulSoup(html,\"html.parser\")\n",
    "items = soup.select('tr')  # ul 태그 및 바로 a 태그\n",
    "for item in items: \n",
    "    columns = item.select('td')\n",
    "    row_str = ''\n",
    "    for column in columns:\n",
    "        row_str += (', ' + column.get_text() )\n",
    "    print(row_str[2:]) "
   ]
  },
  {
   "cell_type": "code",
   "execution_count": 69,
   "id": "4eda4a07",
   "metadata": {},
   "outputs": [
    {
     "name": "stdout",
     "output_type": "stream",
     "text": [
      "일정, 커리큘럼 타이틀, 난이도\n",
      "8.1 ~ 8.15, 나만의 엣지있는 블로그 사이트 만들기, 초급\n",
      "8.16 ~ 9.30, 파이썬과 데이터 시각화, 중급\n"
     ]
    }
   ],
   "source": [
    "soup = BeautifulSoup(html,\"html.parser\")\n",
    "items = soup.find_all('tr')  # ul 태그 및 바로 a 태그\n",
    "for item in items: \n",
    "    columns = item.find_all('td')\n",
    "    row_str = ''\n",
    "    for column in columns:\n",
    "        row_str += (', ' + column.get_text() )\n",
    "    print(row_str[2:]) "
   ]
  },
  {
   "cell_type": "code",
   "execution_count": null,
   "id": "a6a14e4c",
   "metadata": {},
   "outputs": [],
   "source": []
  }
 ],
 "metadata": {
  "kernelspec": {
   "display_name": "Python 3 (ipykernel)",
   "language": "python",
   "name": "python3"
  },
  "language_info": {
   "codemirror_mode": {
    "name": "ipython",
    "version": 3
   },
   "file_extension": ".py",
   "mimetype": "text/x-python",
   "name": "python",
   "nbconvert_exporter": "python",
   "pygments_lexer": "ipython3",
   "version": "3.12.4"
  }
 },
 "nbformat": 4,
 "nbformat_minor": 5
}
